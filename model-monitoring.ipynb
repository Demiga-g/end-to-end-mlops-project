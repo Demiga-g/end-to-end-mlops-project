{
 "cells": [
  {
   "cell_type": "code",
   "execution_count": null,
   "metadata": {},
   "outputs": [],
   "source": [
    "import os\n",
    "import mlflow\n",
    "import pandas as pd\n",
    "from mlops.util_funcs import scrub_data, eval_metrics_logs\n",
    "from sklearn.feature_extraction import DictVectorizer\n",
    "from sklearn.svm import SVC\n",
    "from sklearn.linear_model import LogisticRegression\n",
    "from sklearn.ensemble import RandomForestClassifier, GradientBoostingClassifier\n",
    "import xgboost as xgb\n",
    "from hyperopt import fmin, tpe, hp, STATUS_OK, Trials"
   ]
  },
  {
   "cell_type": "code",
   "execution_count": null,
   "metadata": {},
   "outputs": [],
   "source": [
    "##########################    READING IN DATASETS    ##########################"
   ]
  },
  {
   "cell_type": "code",
   "execution_count": null,
   "metadata": {},
   "outputs": [],
   "source": [
    "# import data\n",
    "df_train = pd.read_csv(\"data/train_df.csv\")\n",
    "df_val = pd.read_csv(\"data/test_df.csv\")"
   ]
  },
  {
   "cell_type": "code",
   "execution_count": null,
   "metadata": {},
   "outputs": [],
   "source": [
    "# creating target variables\n",
    "y_train = df_train[\"Response\"]\n",
    "y_val = df_val[\"Response\"]"
   ]
  },
  {
   "cell_type": "code",
   "execution_count": null,
   "metadata": {},
   "outputs": [],
   "source": [
    "# clean and preprocess the data\n",
    "train_data = scrub_data(df_train)\n",
    "val_data = scrub_data(df_val)"
   ]
  },
  {
   "cell_type": "code",
   "execution_count": null,
   "metadata": {},
   "outputs": [],
   "source": [
    "# dataframe to dictionary\n",
    "train_dict = train_data.to_dict(orient='records')\n",
    "val_dict = val_data.to_dict(orient='records')"
   ]
  },
  {
   "cell_type": "code",
   "execution_count": null,
   "metadata": {},
   "outputs": [],
   "source": [
    "dv = DictVectorizer()\n",
    "X_train = dv.fit_transform(train_dict)\n",
    "X_val = dv.transform(val_dict)"
   ]
  },
  {
   "cell_type": "code",
   "execution_count": null,
   "metadata": {},
   "outputs": [],
   "source": []
  },
  {
   "cell_type": "code",
   "execution_count": null,
   "metadata": {},
   "outputs": [],
   "source": [
    "##########################    SETTING UP REMOTE MLFLOW ENVIRONMENT   ##########################"
   ]
  },
  {
   "cell_type": "code",
   "execution_count": null,
   "metadata": {},
   "outputs": [],
   "source": []
  },
  {
   "cell_type": "code",
   "execution_count": null,
   "metadata": {},
   "outputs": [],
   "source": [
    "# fill in AWS profile\n",
    "os.environ[\"AWS_PROFILE\"] = \"demiga-g\"\n",
    "\n",
    "# Setting tracking uri (unique resource identifier)\n",
    "TRACKING_SERVER_HOST = '54.82.38.62'\n",
    "mlflow.set_tracking_uri(f\"http://{TRACKING_SERVER_HOST}:5000\")\n",
    "\n",
    "# Check validity of url\n",
    "print(f\"tracking URI: '{mlflow.get_tracking_uri()}'\")"
   ]
  },
  {
   "cell_type": "code",
   "execution_count": null,
   "metadata": {},
   "outputs": [],
   "source": [
    "# Setting experiment\n",
    "mlflow.set_experiment(experiment_name='all-models-experiment')\n",
    "\n",
    "# Delete the `Default` experiment\n",
    "expt_id = mlflow.get_experiment_by_name('Default').experiment_id\n",
    "\n",
    "if expt_id == \"0\":\n",
    "    try:\n",
    "        mlflow.delete_experiment(expt_id)\n",
    "    except mlflow.exceptions.MlflowException:\n",
    "        pass\n",
    "else:\n",
    "    print('`Default` deleted...')"
   ]
  },
  {
   "cell_type": "code",
   "execution_count": null,
   "metadata": {},
   "outputs": [],
   "source": []
  },
  {
   "cell_type": "code",
   "execution_count": null,
   "metadata": {},
   "outputs": [],
   "source": [
    "##########################    LOGGING DEFAULT MODELS    ##########################"
   ]
  },
  {
   "cell_type": "code",
   "execution_count": null,
   "metadata": {},
   "outputs": [],
   "source": [
    "# auto-logging scikit-learn models and their parameters to mlflow\n",
    "\n",
    "mlflow.sklearn.autolog(log_datasets=False)\n",
    "\n",
    "for model_class in (SVC, \n",
    "                    LogisticRegression,\n",
    "                    RandomForestClassifier, \n",
    "                    GradientBoostingClassifier\n",
    "):\n",
    "\n",
    "    with mlflow.start_run():\n",
    "\n",
    "        mlmodel = model_class()\n",
    "        mlmodel.fit(X_train, y_train)\n",
    "\n",
    "        y_pred = mlmodel.predict(X_val)\n",
    "        \n",
    "        eval_metrics_logs(y_val, y_pred.round())\n",
    "        \n",
    "mlflow.sklearn.autolog(disable=True)"
   ]
  },
  {
   "cell_type": "code",
   "execution_count": null,
   "metadata": {},
   "outputs": [],
   "source": [
    "# auto-logging xgboost model and its parameters\n",
    "\n",
    "# transformation of data to matrix for xgboost algo\n",
    "train = xgb.DMatrix(X_train, label=y_train)\n",
    "valid = xgb.DMatrix(X_val, label=y_val)\n",
    "_params = {\n",
    "    'objective': 'binary:logistic',\n",
    "    'eval_metric': \"logloss\",\n",
    "    'seed': 42,\n",
    "}\n",
    "\n",
    "# logging xgboost\n",
    "mlflow.xgboost.autolog(log_datasets=False)\n",
    "\n",
    "with mlflow.start_run():\n",
    "    \n",
    "    mlflow.log_params(_params)\n",
    "    \n",
    "    booster = xgb.train(\n",
    "        params=_params,\n",
    "        dtrain=train,\n",
    "        num_boost_round=500,\n",
    "        evals=[(valid, \"validation\")],\n",
    "        early_stopping_rounds=250, \n",
    "        verbose_eval=False\n",
    "    )\n",
    "    y_pred = booster.predict(valid)\n",
    "    \n",
    "    eval_metrics_logs(y_val, y_pred.round())\n",
    "    \n",
    "mlflow.xgboost.autolog(disable=True)"
   ]
  },
  {
   "cell_type": "code",
   "execution_count": null,
   "metadata": {},
   "outputs": [],
   "source": [
    "##########################    LOGGING TUNED MODELS    ##########################"
   ]
  },
  {
   "cell_type": "code",
   "execution_count": null,
   "metadata": {},
   "outputs": [],
   "source": [
    "# Defining a random state \n",
    "random_state = np.random.default_rng(42)"
   ]
  },
  {
   "cell_type": "code",
   "execution_count": null,
   "metadata": {},
   "outputs": [],
   "source": [
    "###########   LOGISTIC REGRESSION    ###########"
   ]
  },
  {
   "cell_type": "code",
   "execution_count": null,
   "metadata": {},
   "outputs": [],
   "source": [
    "mlflow.set_experiment(\"log-reg-experiment\")\n",
    "\n",
    "\n",
    "# objective function for logistic regression\n",
    "def log_reg_objective(params):\n",
    "    with mlflow.start_run():\n",
    "        mlflow.log_params(params)\n",
    "    \n",
    "        # Create the logistic regression model with the given hyperparameters\n",
    "        model = LogisticRegression(**params, max_iter=5000)\n",
    "        model.fit(X_train, y_train)\n",
    "        y_pred = model.predict(X_val)\n",
    "        \n",
    "        precision = eval_metrics_logs(y_val, y_pred.round())\n",
    "    \n",
    "    return {'loss': -precision, 'status': STATUS_OK}\n",
    "\n",
    "# define parameters to tune\n",
    "space = {\n",
    "    'C': hp.loguniform('C', -20, 4),\n",
    "    'class_weight': hp.choice('class_weight', [None, 'balanced']),\n",
    "    'penalty': hp.choice('penalty', ['l1', 'l2']),\n",
    "    'solver': hp.choice('solver', ['liblinear', 'saga'])\n",
    "}\n",
    "\n",
    "\n",
    "# log in the model to mlflow\n",
    "best_result = fmin(\n",
    "    fn = log_reg_objective,\n",
    "    space = space,\n",
    "    algo = tpe.suggest,\n",
    "    max_evals = 30,\n",
    "    trials = Trials(),\n",
    "    rstate=random_state,\n",
    "    verbose=False\n",
    ")"
   ]
  },
  {
   "cell_type": "code",
   "execution_count": null,
   "metadata": {},
   "outputs": [],
   "source": [
    "#checking the best parameters\n",
    "params = {'C': 0.08966267017951414, \n",
    "          'class_weight': None,\n",
    "          'penalty': 'l1',\n",
    "          'solver':\t'liblinear'\n",
    "}\n",
    "\n",
    "mlflow.sklearn.autolog()\n",
    "\n",
    "lr = LogisticRegression(**params, max_iter=5000)\n",
    "lr.fit(X_train, y_train)\n",
    "\n",
    "mlflow.sklearn.autolog(disable=True)"
   ]
  },
  {
   "cell_type": "code",
   "execution_count": null,
   "metadata": {},
   "outputs": [],
   "source": []
  },
  {
   "cell_type": "code",
   "execution_count": null,
   "metadata": {},
   "outputs": [],
   "source": [
    "###########   RANDOM FOREST CLASSIFIER    ###########"
   ]
  },
  {
   "cell_type": "code",
   "execution_count": null,
   "metadata": {},
   "outputs": [],
   "source": [
    "mlflow.set_experiment('rfc-experiment')\n",
    "\n",
    "# objective function for random forest classifier\n",
    "def rfc_objective(params):\n",
    "    with mlflow.start_run():\n",
    "        mlflow.log_params(params)\n",
    "        \n",
    "        model = RandomForestClassifier(**params, n_jobs=-1, \n",
    "                                       random_state=42)\n",
    "        model.fit(X_train, y_train)\n",
    "        \n",
    "        y_pred = model.predict(X_val)\n",
    "        \n",
    "        precision = eval_metrics_logs(y_val, y_pred.round())\n",
    "        \n",
    "    return {'loss': -precision, 'status': STATUS_OK}\n",
    "\n",
    "\n",
    "# defining the hyperparameters\n",
    "search_space = {\n",
    "    'n_estimators': scope.int(hp.quniform('n_estimators', 10, 150, 10)),\n",
    "    'criterion': hp.choice('criterion', ['gini', 'entropy']),\n",
    "    'max_depth': scope.int(hp.quniform('max_depth', 10, 30, 10)),   \n",
    "}\n",
    "\n",
    "# logging results into mlflow\n",
    "best_result = fmin(\n",
    "    fn=rfc_objective,\n",
    "    space=search_space,\n",
    "    algo=tpe.suggest,\n",
    "    max_evals=30,\n",
    "    rstate=random_state,\n",
    "    verbose=False\n",
    ")\n"
   ]
  },
  {
   "cell_type": "code",
   "execution_count": null,
   "metadata": {},
   "outputs": [],
   "source": [
    "# logging the best hyperparameters\n",
    "params = {'criterion': 'entropy', \n",
    "          'max_depth': 20, \n",
    "          'n_estimators': 60}\n",
    "\n",
    "mlflow.sklearn.autolog()\n",
    "\n",
    "rfc = RandomForestClassifier(**params, n_jobs=-1, \n",
    "                             random_state=42)\n",
    "rfc.fit(X_train, y_train)      \n",
    "\n",
    "mlflow.sklearn.autolog(disable=True)"
   ]
  },
  {
   "cell_type": "code",
   "execution_count": null,
   "metadata": {},
   "outputs": [],
   "source": [
    "###########   SKLEARN GRADIENT BOOSTING CLASSIFIER    ###########"
   ]
  },
  {
   "cell_type": "code",
   "execution_count": null,
   "metadata": {},
   "outputs": [],
   "source": [
    "mlflow.set_experiment('sk-gbc-experiment')\n",
    "\n",
    "# objective function for sklearn gradient boosting classifier\n",
    "def sgbc_objective(params):\n",
    "    with mlflow.start_run():\n",
    "        mlflow.log_params(params)\n",
    "        \n",
    "        model = GradientBoostingClassifier(**params, random_state=42)\n",
    "        model.fit(X_train, y_train)\n",
    "        y_pred = model.predict(X_val)\n",
    "        \n",
    "        precision = eval_metrics_logs(y_val, y_pred.round())\n",
    "        \n",
    "        return {'loss': -precision, 'status': STATUS_OK}\n",
    "\n",
    "\n",
    "# defining the search space\n",
    "search_space = {\n",
    "    'n_estimators': scope.int(hp.quniform('n_estimators', 50, 100, 10)),\n",
    "    'min_samples_split': scope.int(hp.quniform('min_samples_split', 2, 16, 2)), \n",
    "    'min_samples_leaf': scope.int(hp.quniform('min_samples_leaf', 1, 10, 1)), \n",
    "}\n",
    "\n",
    "# logging result into mlflow\n",
    "best_result = fmin(\n",
    "    fn = sgbc_objective,\n",
    "    space = search_space,\n",
    "    algo = tpe.suggest,\n",
    "    max_evals = 30,\n",
    "    trials = Trials(),\n",
    "    rstate=random_state,\n",
    "    verbose=False\n",
    ")"
   ]
  },
  {
   "cell_type": "code",
   "execution_count": null,
   "metadata": {},
   "outputs": [],
   "source": [
    "# logging the best fine-tuned model\n",
    "params = {'min_samples_leaf': 8,\n",
    "'min_samples_split': 14,\n",
    "'n_estimators': 90}\n",
    "\n",
    "mlflow.sklearn.autolog()\n",
    "\n",
    "gbc = GradientBoostingClassifier(**params, random_state=42)\n",
    "gbc.fit(X_train, y_train)\n",
    "\n",
    "mlflow.sklearn.autolog(disable=True)"
   ]
  },
  {
   "cell_type": "code",
   "execution_count": null,
   "metadata": {},
   "outputs": [],
   "source": []
  },
  {
   "cell_type": "code",
   "execution_count": null,
   "metadata": {},
   "outputs": [],
   "source": [
    "###########   XGB CLASSIFIER    ###########"
   ]
  },
  {
   "cell_type": "code",
   "execution_count": null,
   "metadata": {},
   "outputs": [],
   "source": [
    "mlflow.set_experiment('xgbc-experiment')\n",
    "\n",
    "# objective function for xgboost classifier\n",
    "def xgbc_objective(params):\n",
    "    \n",
    "    with mlflow.start_run():\n",
    "        mlflow.log_params(params)\n",
    "        model = xgb.XGBClassifier(**params, \n",
    "                                  random_state=42, \n",
    "                                  objective='binary:logistic')\n",
    "        model.set_params(early_stopping_rounds=250)\n",
    "        model.fit(X_train, y_train, \n",
    "                  eval_set=[(X_val, y_val)],\n",
    "                  verbose=False)\n",
    "        y_pred = model.predict(X_val)\n",
    "        \n",
    "        precision = eval_metrics_logs(y_val, y_pred.round())\n",
    "        \n",
    "    return {'loss': -precision, 'status': STATUS_OK}\n",
    "\n",
    "\n",
    "\n",
    "search_space = {\n",
    "    'n_estimators': scope.int(hp.quniform('n_estimators', 50, 80, 10)),\n",
    "    'max_leaves': scope.int(hp.quniform('max_leaves', 1, 100, 10)),\n",
    "    'min_child_weight': hp.loguniform('min_child_weight', 1.5, 2.5),\n",
    "}\n",
    "\n",
    "best_result = fmin(\n",
    "    fn = xgbc_objective,\n",
    "    space = search_space,\n",
    "    algo = tpe.suggest,\n",
    "    max_evals = 30,\n",
    "    trials = Trials(),\n",
    "    rstate=random_state,\n",
    "    verbose=False\n",
    ")"
   ]
  },
  {
   "cell_type": "code",
   "execution_count": null,
   "metadata": {},
   "outputs": [],
   "source": [
    "params = {'max_leaves':\t50, \n",
    "'min_child_weight':\t7.727056599504389, \n",
    "'n_estimators':\t50}\n",
    "\n",
    "mlflow.xgboost.autolog()\n",
    "\n",
    "xgbc = xgb.XGBClassifier(**params, \n",
    "                          random_state=42, \n",
    "                          objective='binary:logistic')\n",
    "xgbc.set_params(early_stopping_rounds=250)\n",
    "xgbc.fit(X_train, y_train,  eval_set=[(X_val, y_val)], verbose=False)\n",
    "\n",
    "mlflow.xgboost.autolog(disable=True)"
   ]
  },
  {
   "cell_type": "code",
   "execution_count": null,
   "metadata": {},
   "outputs": [],
   "source": []
  },
  {
   "cell_type": "code",
   "execution_count": null,
   "metadata": {},
   "outputs": [],
   "source": [
    "###########   SUPPORT VECTOR CLASSIFIER    ###########"
   ]
  },
  {
   "cell_type": "code",
   "execution_count": null,
   "metadata": {},
   "outputs": [],
   "source": [
    "mlflow.set_experiment('svc-experiment')\n",
    "\n",
    "# objective function for SVM classifier\n",
    "def svc_objective(params):\n",
    "    with mlflow.start_run():\n",
    "        mlflow.log_params(params)\n",
    "        \n",
    "        model = SVC(**params, random_state=42)\n",
    "        model.fit(X_train, y_train)\n",
    "        y_pred = model.predict(X_val)\n",
    "        \n",
    "        precision = eval_metrics_logs(y_val, y_pred.round())\n",
    "        \n",
    "    return {'loss': -precision, 'status': STATUS_OK}\n",
    "\n",
    "\n",
    "search_space = {\n",
    "    'C': hp.uniform('C', 0, 10),\n",
    "    # 'kernel': hp.choice('kernel', ['poly', 'rbf', 'sigmoid']), \n",
    "    'degree': scope.int(hp.randint('degree', 1, 12)),\n",
    "    # 'gamma': hp.choice('gamma', ['scale', 'auto']),\n",
    "    # 'class_weight': hp.choice('class_weight', [None, 'balanced'])   \n",
    "}\n",
    "\n",
    "best_result = fmin(\n",
    "    fn=svc_objective,\n",
    "    space=search_space,\n",
    "    algo=tpe.suggest,\n",
    "    max_evals=30,\n",
    "    rstate=random_state,\n",
    "    verbose=False\n",
    ")"
   ]
  },
  {
   "cell_type": "code",
   "execution_count": null,
   "metadata": {},
   "outputs": [],
   "source": [
    "params = {\n",
    "    'C': 2.521616767609426,\n",
    "    'degree': 2\n",
    "}\n",
    "\n",
    "mlflow.sklearn.autolog()\n",
    "\n",
    "svc = SVC(**params, random_state=42)\n",
    "svc.fit(X_train, y_train)\n",
    "\n",
    "mlflow.sklearn.autolog(disable=True)"
   ]
  },
  {
   "cell_type": "code",
   "execution_count": null,
   "metadata": {},
   "outputs": [],
   "source": []
  },
  {
   "cell_type": "code",
   "execution_count": null,
   "metadata": {},
   "outputs": [],
   "source": [
    "###########   XG-BOOST CLASSIFIER    ###########"
   ]
  },
  {
   "cell_type": "code",
   "execution_count": null,
   "metadata": {},
   "outputs": [],
   "source": [
    "mlflow.set_experiment(\"xgboost-experiment\")\n",
    "\n",
    "# objective function for extreme gradient boost\n",
    "def exgobjective(params):\n",
    "    with mlflow.start_run():\n",
    "        mlflow.set_tag(\"model\", \"xgboost\")\n",
    "        mlflow.log_params(params)\n",
    "        booster = xgb.train(\n",
    "            params=params,\n",
    "            dtrain=train,\n",
    "            num_boost_round=500,\n",
    "            evals=[(valid, \"validation\")],\n",
    "            early_stopping_rounds=250, \n",
    "            verbose_eval=False\n",
    "        )\n",
    "        y_pred = booster.predict(valid)\n",
    "        \n",
    "        precision = eval_metrics_logs(y_val, y_pred.round())\n",
    "        \n",
    "    return {'loss': -precision, 'status': STATUS_OK}\n",
    "\n",
    "\n",
    "search_space = {\n",
    "    'max_depth': scope.int(hp.quniform('max_depth', 20, 70, 10)),\n",
    "    'learning_rate': hp.loguniform('learning_rate', -30, -3),\n",
    "    'min_child_weight': hp.loguniform('min_child_weight', 1.5, 2.5),\n",
    "    # 'scale_pos_weight': hp.uniform('scale_pos_weight', 1, 10),\n",
    "    'subsample': hp.uniform('subsample', 0.5, 1),\n",
    "    # 'colsample_bytree': hp.uniform('colsample_bytree', 0.5, 1),\n",
    "    # 'gamma': hp.uniform('gamma', 0, 1),\n",
    "    'objective': 'binary:logistic',\n",
    "    'eval_metric': \"logloss\",\n",
    "    'seed': 42,\n",
    "}\n",
    "\n",
    "best_result = fmin(\n",
    "    fn = exgb_objective,\n",
    "    space = search_space,\n",
    "    algo = tpe.suggest,\n",
    "    max_evals = 30,\n",
    "    trials = Trials(),\n",
    "    rstate=random_state,\n",
    "    verbose=False\n",
    ")"
   ]
  },
  {
   "cell_type": "code",
   "execution_count": null,
   "metadata": {},
   "outputs": [],
   "source": [
    "# params = space_eval(search_space, best_result)\n",
    "params = {\n",
    "    'eval_metric':'logloss',\n",
    "    'gamma':0.9511548717715149,\n",
    "    'learning_rate':0.014685011379954318,\n",
    "    'max_depth':149,\n",
    "    'min_child_weight':7.668601934406394,\n",
    "    'objective':'binary:logistic',\n",
    "    'seed':\t42,\n",
    "    'subsample':0.51735171792841\n",
    "}\n",
    "\n",
    "mlflow.xgboost.autolog()\n",
    "\n",
    "booster = xgb.train(\n",
    "    params=params,\n",
    "    dtrain=train,\n",
    "    num_boost_round=500,\n",
    "    evals=[(valid, \"validation\")],\n",
    "    early_stopping_rounds=20,\n",
    "    verbose_eval=False\n",
    ")\n",
    "\n",
    "mlflow.xgboost.autolog(disable=True)"
   ]
  },
  {
   "cell_type": "code",
   "execution_count": null,
   "metadata": {},
   "outputs": [],
   "source": []
  },
  {
   "cell_type": "code",
   "execution_count": null,
   "metadata": {},
   "outputs": [],
   "source": [
    "###########   XG-BOOST CLASSIFIER    ###########"
   ]
  },
  {
   "cell_type": "code",
   "execution_count": null,
   "metadata": {},
   "outputs": [],
   "source": []
  },
  {
   "cell_type": "code",
   "execution_count": null,
   "metadata": {},
   "outputs": [],
   "source": [
    "mlflow.set_experiment('best_model')\n",
    "\n",
    "with mlflow.start_run():\n",
    "    params = {\n",
    "        'min_samples_leaf': 8, \n",
    "        'min_samples_split': 14, \n",
    "        'n_estimators': 90\n",
    "    }\n",
    "    \n",
    "    # Log the parameters\n",
    "    mlflow.log_params(params)\n",
    "\n",
    "    gbc = GradientBoostingClassifier(**params, random_state=42)\n",
    "    gbc.fit(X_train, y_train)\n",
    "    y_pred = gbc.predict(X_val)\n",
    "    \n",
    "    # Calculate the evaluation metrics\n",
    "    metrics = {\n",
    "        'f1': f1_score(y_val, y_pred.round()), \n",
    "        'precision': precision_score(y_val, y_pred.round(), zero_division=0),\n",
    "        'recall': recall_score(y_val, y_pred.round()),\n",
    "        'pr_auc': roc_auc_score(y_val, y_pred.round()),\n",
    "        'accuracy': accuracy_score(y_val, y_pred.round())\n",
    "    }\n",
    "    \n",
    "    # Log the evaluation metrics\n",
    "    mlflow.log_metrics(metrics)\n",
    "    \n",
    "    # Log the model\n",
    "    mlflow.sklearn.log_model(gbc, artifact_path='model')\n",
    "   \n",
    "    # Log the preprocessor\n",
    "    mlflow.log_artifact('models/preprocessor.b', artifact_path='preprocessor')\n",
    "    mlflow.sklearn.autolog(disable=True)"
   ]
  }
 ],
 "metadata": {
  "kernelspec": {
   "display_name": "ifood_mlops",
   "language": "python",
   "name": "python3"
  },
  "language_info": {
   "codemirror_mode": {
    "name": "ipython",
    "version": 3
   },
   "file_extension": ".py",
   "mimetype": "text/x-python",
   "name": "python",
   "nbconvert_exporter": "python",
   "pygments_lexer": "ipython3",
   "version": "3.9.16"
  }
 },
 "nbformat": 4,
 "nbformat_minor": 2
}
