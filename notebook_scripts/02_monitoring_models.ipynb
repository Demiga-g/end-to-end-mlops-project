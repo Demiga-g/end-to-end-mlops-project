{
 "cells": [
  {
   "cell_type": "code",
   "execution_count": 1,
   "metadata": {},
   "outputs": [],
   "source": [
    "from mlops.util_funcs import scrub_data, eval_metrics_logs\n",
    "from mlops.project_libraries import *"
   ]
  },
  {
   "cell_type": "markdown",
   "metadata": {},
   "source": [
    "##########################    READING IN DATASETS    ##########################"
   ]
  },
  {
   "cell_type": "code",
   "execution_count": 2,
   "metadata": {},
   "outputs": [],
   "source": [
    "# import data\n",
    "df_train = pd.read_csv(\"../data/train_df.csv\")\n",
    "df_val = pd.read_csv(\"../data/test_df.csv\")"
   ]
  },
  {
   "cell_type": "code",
   "execution_count": 3,
   "metadata": {},
   "outputs": [],
   "source": [
    "# creating target variables\n",
    "y_train = df_train[\"Response\"]\n",
    "y_val = df_val[\"Response\"]"
   ]
  },
  {
   "cell_type": "code",
   "execution_count": 4,
   "metadata": {},
   "outputs": [],
   "source": [
    "# clean and preprocess the data\n",
    "train_data = scrub_data(df_train)\n",
    "val_data = scrub_data(df_val)"
   ]
  },
  {
   "cell_type": "code",
   "execution_count": 5,
   "metadata": {},
   "outputs": [],
   "source": [
    "# dataframe to dictionary\n",
    "train_dict = train_data.to_dict(orient='records')\n",
    "val_dict = val_data.to_dict(orient='records')"
   ]
  },
  {
   "cell_type": "markdown",
   "metadata": {},
   "source": [
    "##########################    SETTING UP REMOTE MLFLOW ENVIRONMENT   ##########################"
   ]
  },
  {
   "cell_type": "code",
   "execution_count": 6,
   "metadata": {},
   "outputs": [
    {
     "name": "stdout",
     "output_type": "stream",
     "text": [
      "tracking URI: 'http://127.0.0.1:5000'\n"
     ]
    }
   ],
   "source": [
    "# fill in AWS profile\n",
    "os.environ[\"AWS_PROFILE\"] = \"demiga-g\"\n",
    "\n",
    "# Setting tracking uri (unique resource identifier)\n",
    "TRACKING_SERVER_HOST = '127.0.0.1'\n",
    "mlflow.set_tracking_uri(f\"http://{TRACKING_SERVER_HOST}:5000\")\n",
    "\n",
    "# Check validity of url\n",
    "print(f\"tracking URI: '{mlflow.get_tracking_uri()}'\")"
   ]
  },
  {
   "cell_type": "code",
   "execution_count": 7,
   "metadata": {},
   "outputs": [],
   "source": [
    "# Setting experiment\n",
    "mlflow.set_experiment(experiment_name='all-models')\n",
    "\n",
    "# Delete the `Default` experiment\n",
    "expt_id = mlflow.get_experiment_by_name('Default').experiment_id\n",
    "\n",
    "if expt_id == \"0\":\n",
    "    try:\n",
    "        mlflow.delete_experiment(expt_id)\n",
    "    except mlflow.exceptions.MlflowException:\n",
    "        pass\n",
    "else:\n",
    "    print('`Default` deleted...')"
   ]
  },
  {
   "cell_type": "markdown",
   "metadata": {},
   "source": [
    "##########################    LOGGING DEFAULT MODELS    ##########################"
   ]
  },
  {
   "cell_type": "code",
   "execution_count": 8,
   "metadata": {},
   "outputs": [],
   "source": [
    "# random state to use\n",
    "random_state = np.random.default_rng(42)\n",
    "\n",
    "# dictionary vectorizer to use\n",
    "dv = DictVectorizer()"
   ]
  },
  {
   "cell_type": "code",
   "execution_count": 9,
   "metadata": {},
   "outputs": [
    {
     "name": "stderr",
     "output_type": "stream",
     "text": [
      "2024/07/13 13:35:15 WARNING mlflow.utils.autologging_utils: MLflow autologging encountered a warning: \"/home/midega-g/anaconda3/envs/ifood_mlops/lib/python3.9/site-packages/_distutils_hack/__init__.py:26: UserWarning: Setuptools is replacing distutils.\"\n"
     ]
    }
   ],
   "source": [
    "# auto-logging scikit-learn models, their parameters, and the dictionary vectorizer\n",
    "\n",
    "mlflow.sklearn.autolog(log_datasets=False)\n",
    "\n",
    "for model_class in (SVC, \n",
    "                    LogisticRegression,\n",
    "                    RandomForestClassifier, \n",
    "                    GradientBoostingClassifier\n",
    "):\n",
    "\n",
    "    with mlflow.start_run():\n",
    "      \n",
    "      pipeline = make_pipeline(\n",
    "        dv,\n",
    "        model_class()\n",
    "      )\n",
    "\n",
    "      pipeline.fit(train_dict, y_train)\n",
    "      y_pred = pipeline.predict(val_dict)\n",
    "      \n",
    "      eval_metrics_logs(y_val, y_pred.round())\n",
    "      \n",
    "      # Log the model and the vectorizer in the pipeline as one\n",
    "      mlflow.sklearn.log_model(pipeline, artifact_path='model')"
   ]
  },
  {
   "cell_type": "code",
   "execution_count": 10,
   "metadata": {},
   "outputs": [],
   "source": [
    "# prepare dataset for xgboost classifier\n",
    "train_dict_vect = dv.fit_transform(train_dict)\n",
    "val_dict_vect = dv.transform(val_dict)\n",
    "\n",
    "# required xgboost params\n",
    "params = {\n",
    "    'objective': 'binary:logistic',\n",
    "    'eval_metric': \"logloss\",\n",
    "    'random_state': 42,\n",
    "    'early_stopping_rounds': 250\n",
    "}"
   ]
  },
  {
   "cell_type": "code",
   "execution_count": 11,
   "metadata": {},
   "outputs": [
    {
     "name": "stderr",
     "output_type": "stream",
     "text": [
      "2024/07/13 13:35:48 WARNING mlflow.utils.autologging_utils: You are using an unsupported version of xgboost. If you encounter errors during autologging, try upgrading / downgrading xgboost to a supported version, or try upgrading MLflow.\n",
      "2024/07/13 13:35:54 WARNING mlflow.utils.autologging_utils: MLflow autologging encountered a warning: \"/home/midega-g/anaconda3/envs/ifood_mlops/lib/python3.9/site-packages/xgboost/core.py:158: UserWarning: [13:35:54] WARNING: /workspace/src/c_api/c_api.cc:1374: Saving model in the UBJSON format as default.  You can use file extension: `json`, `ubj` or `deprecated` to choose between formats.\"\n"
     ]
    }
   ],
   "source": [
    "# auto-logging xgboost model, its default parameters, and dictionary vectorizer\n",
    "\n",
    "mlflow.xgboost.autolog()\n",
    "\n",
    "with mlflow.start_run():\n",
    "    mlflow.log_params(params)\n",
    "    \n",
    "    # fit the model    \n",
    "    model = XGBClassifier(**params)\n",
    "    model.fit(train_dict_vect, y_train, \n",
    "              eval_set=[(val_dict_vect, y_val)],\n",
    "              verbose=False)\n",
    "    \n",
    "    y_pred = model.predict(val_dict_vect)\n",
    "    precision = eval_metrics_logs(y_val, y_pred.round())\n",
    "    \n",
    "    # make pipeline with the model and dictionary vectorizer    \n",
    "    pipeline = make_pipeline(dv, model)\n",
    "        \n",
    "    # log the pipeline\n",
    "    mlflow.sklearn.log_model(pipeline, artifact_path=\"model\")\n",
    "\n",
    "mlflow.xgboost.autolog(disable=True)  "
   ]
  },
  {
   "cell_type": "markdown",
   "metadata": {},
   "source": [
    "##########################    LOGGING TUNED MODELS    ##########################"
   ]
  },
  {
   "cell_type": "markdown",
   "metadata": {},
   "source": [
    "###########   LOGISTIC REGRESSION    ###########"
   ]
  },
  {
   "cell_type": "code",
   "execution_count": 12,
   "metadata": {},
   "outputs": [],
   "source": [
    "mlflow.set_experiment(\"log-reg\")\n",
    "\n",
    "# objective function for logistic regression\n",
    "def log_reg_objective(params):\n",
    "    with mlflow.start_run():\n",
    "        mlflow.log_params(params)\n",
    "    \n",
    "        # pipeline for logistic regression and vectorizer\n",
    "        pipeline = make_pipeline(\n",
    "            dv,\n",
    "            LogisticRegression(**params, max_iter=5000)\n",
    "        )\n",
    "        \n",
    "        pipeline.fit(train_dict, y_train)\n",
    "        y_pred = pipeline.predict(val_dict)\n",
    "        \n",
    "        precision = eval_metrics_logs(y_val, y_pred.round())\n",
    "        \n",
    "        # log the model and the vectorizer as one\n",
    "        mlflow.sklearn.log_model(pipeline, artifact_path='model')\n",
    "        mlflow.sklearn.autolog(disable=True)\n",
    "            \n",
    "    return {'loss': -precision, 'status': STATUS_OK}\n",
    "\n",
    "# define parameters to tune\n",
    "space = {\n",
    "    'C': hp.loguniform('C', -20, 4),\n",
    "    'class_weight': hp.choice('class_weight', [None, 'balanced']),\n",
    "    'penalty': hp.choice('penalty', ['l1', 'l2']),\n",
    "    'solver': hp.choice('solver', ['liblinear', 'saga'])\n",
    "}\n",
    "\n",
    "\n",
    "# log in the model to mlflow\n",
    "best_result = fmin(\n",
    "    fn = log_reg_objective,\n",
    "    space = space,\n",
    "    algo = tpe.suggest,\n",
    "    max_evals = 30,\n",
    "    trials = Trials(),\n",
    "    rstate=random_state,\n",
    "    verbose=False\n",
    ")"
   ]
  },
  {
   "cell_type": "markdown",
   "metadata": {},
   "source": [
    "###########   RANDOM FOREST CLASSIFIER    ###########"
   ]
  },
  {
   "cell_type": "code",
   "execution_count": 13,
   "metadata": {},
   "outputs": [],
   "source": [
    "mlflow.set_experiment('rfc')\n",
    "\n",
    "# objective function for random forest classifier\n",
    "def rfc_objective(params):\n",
    "    with mlflow.start_run():\n",
    "        mlflow.log_params(params)\n",
    "        \n",
    "        # pipeline for random forest and vectorizer\n",
    "        pipeline = make_pipeline(\n",
    "            dv,\n",
    "            RandomForestClassifier(**params, n_jobs=-1, \n",
    "                                   random_state=42)\n",
    "        )\n",
    "        \n",
    "        pipeline.fit(train_dict, y_train)\n",
    "        y_pred = pipeline.predict(val_dict)\n",
    "        \n",
    "        precision = eval_metrics_logs(y_val, y_pred.round())\n",
    "        \n",
    "        # log the model and the vectorizer as one\n",
    "        mlflow.sklearn.log_model(pipeline, artifact_path='model')\n",
    "        mlflow.sklearn.autolog(disable=True)\n",
    "        \n",
    "    return {'loss': -precision, 'status': STATUS_OK}\n",
    "\n",
    "\n",
    "# defining the hyperparameters\n",
    "search_space = {\n",
    "    'n_estimators': scope.int(hp.quniform('n_estimators', 10, 150, 10)),\n",
    "    'criterion': hp.choice('criterion', ['gini', 'entropy']),\n",
    "    'max_depth': scope.int(hp.quniform('max_depth', 10, 30, 10)),   \n",
    "}\n",
    "\n",
    "# logging results into mlflow\n",
    "best_result = fmin(\n",
    "    fn=rfc_objective,\n",
    "    space=search_space,\n",
    "    algo=tpe.suggest,\n",
    "    max_evals=30,\n",
    "    rstate=random_state,\n",
    "    verbose=False\n",
    ")\n"
   ]
  },
  {
   "cell_type": "markdown",
   "metadata": {},
   "source": [
    "###########   SKLEARN GRADIENT BOOSTING CLASSIFIER    ###########"
   ]
  },
  {
   "cell_type": "code",
   "execution_count": 14,
   "metadata": {},
   "outputs": [],
   "source": [
    "mlflow.set_experiment('gbc-sklearn')\n",
    "\n",
    "# objective function for sklearn gradient boosting classifier\n",
    "def sgbc_objective(params):\n",
    "    with mlflow.start_run():\n",
    "        mlflow.log_params(params)\n",
    "        \n",
    "        # pipeline for gradient boosting and vectorizer\n",
    "        pipeline = make_pipeline(\n",
    "            dv,\n",
    "            GradientBoostingClassifier(**params, random_state=42)\n",
    "        )\n",
    "        \n",
    "        pipeline.fit(train_dict, y_train)\n",
    "        y_pred = pipeline.predict(val_dict)\n",
    "        \n",
    "        precision = eval_metrics_logs(y_val, y_pred.round())\n",
    "        \n",
    "        # log the model and the vectorizer\n",
    "        mlflow.sklearn.log_model(pipeline, artifact_path='model')\n",
    "        mlflow.sklearn.autolog(disable=True)\n",
    "    \n",
    "    return {'loss': -precision,'status': STATUS_OK}\n",
    "\n",
    "# defining the search space\n",
    "search_space = {\n",
    "    'n_estimators': scope.int(hp.quniform('n_estimators', 50, 100, 10)),\n",
    "    'min_samples_split': scope.int(hp.quniform('min_samples_split', 2, 16, 2)), \n",
    "    'min_samples_leaf': scope.int(hp.quniform('min_samples_leaf', 1, 10, 1)), \n",
    "}\n",
    "\n",
    "# logging result into mlflow\n",
    "best_result = fmin(\n",
    "    fn = sgbc_objective,\n",
    "    space = search_space,\n",
    "    algo = tpe.suggest,\n",
    "    max_evals = 30,\n",
    "    trials = Trials(),\n",
    "    rstate=random_state,\n",
    "    verbose=False\n",
    ")"
   ]
  },
  {
   "cell_type": "markdown",
   "metadata": {},
   "source": [
    "###########   XGB CLASSIFIER    ###########"
   ]
  },
  {
   "cell_type": "code",
   "execution_count": 15,
   "metadata": {},
   "outputs": [],
   "source": [
    "mlflow.set_experiment('xgbc')\n",
    "\n",
    "\n",
    "# objective function for xgboost classifier\n",
    "def xgbc_objective(params):\n",
    "    \n",
    "    with mlflow.start_run():\n",
    "        mlflow.log_params(params)\n",
    "        \n",
    "        model = XGBClassifier(**params,\n",
    "                              random_state=42,\n",
    "                              objective='binary:logistic')\n",
    "        model.set_params(early_stopping_rounds=250)\n",
    "        \n",
    "        model.fit(train_dict_vect, y_train, \n",
    "                  eval_set=[(val_dict_vect, y_val)],\n",
    "                  verbose=False)\n",
    "        y_pred = model.predict(val_dict_vect)\n",
    "        \n",
    "        precision = eval_metrics_logs(y_val, y_pred.round())\n",
    "        \n",
    "        # make pipeline with the model and dictionary vectorizer\n",
    "        pipeline = make_pipeline(dv, model)\n",
    "        \n",
    "        # log the pipeline\n",
    "        mlflow.sklearn.log_model(pipeline, artifact_path=\"model\")\n",
    "        mlflow.xgboost.autolog(disable=True)\n",
    "        \n",
    "    return {'loss': -precision, 'status': STATUS_OK}\n",
    "\n",
    "\n",
    "\n",
    "search_space = {\n",
    "    'n_estimators': scope.int(hp.quniform('n_estimators', 50, 80, 10)),\n",
    "    'max_leaves': scope.int(hp.quniform('max_leaves', 1, 100, 10)),\n",
    "    'min_child_weight': hp.loguniform('min_child_weight', 1.5, 2.5),\n",
    "}\n",
    "\n",
    "best_result = fmin(\n",
    "    fn = xgbc_objective,\n",
    "    space = search_space,\n",
    "    algo = tpe.suggest,\n",
    "    max_evals = 30,\n",
    "    trials = Trials(),\n",
    "    rstate=random_state,\n",
    "    verbose=False\n",
    ")"
   ]
  },
  {
   "cell_type": "markdown",
   "metadata": {},
   "source": [
    "###########   SUPPORT VECTOR CLASSIFIER    ###########"
   ]
  },
  {
   "cell_type": "code",
   "execution_count": 16,
   "metadata": {},
   "outputs": [],
   "source": [
    "mlflow.set_experiment('svc')\n",
    "\n",
    "# objective function for SVM classifier\n",
    "def svc_objective(params):\n",
    "    with mlflow.start_run():\n",
    "        mlflow.log_params(params)\n",
    "        \n",
    "        # make pipeline with the model and vectorizer\n",
    "        pipeline = make_pipeline(\n",
    "            dv,\n",
    "            SVC(**params, random_state=42)\n",
    "        )\n",
    "        pipeline.fit(train_dict, y_train)\n",
    "        y_pred = pipeline.predict(val_dict)\n",
    "        \n",
    "        precision = eval_metrics_logs(y_val, y_pred.round())\n",
    "        \n",
    "        # log in the model and vectorizer\n",
    "        mlflow.sklearn.log_model(pipeline, artifact_path='model')\n",
    "        mlflow.sklearn.autolog(disable=True)\n",
    "        \n",
    "    return {'loss': -precision, 'status': STATUS_OK}\n",
    "\n",
    "\n",
    "search_space = {\n",
    "    'C': hp.uniform('C', 0, 10),\n",
    "    # 'kernel': hp.choice('kernel', ['poly', 'rbf', 'sigmoid']), \n",
    "    'degree': scope.int(hp.randint('degree', 1, 12)),\n",
    "    # 'gamma': hp.choice('gamma', ['scale', 'auto']),\n",
    "    # 'class_weight': hp.choice('class_weight', [None, 'balanced'])   \n",
    "}\n",
    "\n",
    "best_result = fmin(\n",
    "    fn=svc_objective,\n",
    "    space=search_space,\n",
    "    algo=tpe.suggest,\n",
    "    max_evals=30,\n",
    "    rstate=random_state,\n",
    "    verbose=False\n",
    ")"
   ]
  }
 ],
 "metadata": {
  "kernelspec": {
   "display_name": "ifood_mlops",
   "language": "python",
   "name": "python3"
  },
  "language_info": {
   "codemirror_mode": {
    "name": "ipython",
    "version": 3
   },
   "file_extension": ".py",
   "mimetype": "text/x-python",
   "name": "python",
   "nbconvert_exporter": "python",
   "pygments_lexer": "ipython3",
   "version": "3.9.16"
  }
 },
 "nbformat": 4,
 "nbformat_minor": 2
}
