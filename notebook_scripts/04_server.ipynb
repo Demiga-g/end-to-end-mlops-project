{
 "cells": [
  {
   "cell_type": "code",
   "execution_count": 1,
   "metadata": {},
   "outputs": [],
   "source": [
    "from mlops.project_libraries import FastAPI, mlflow, os, np\n",
    "from mlops.util_funcs import scrub_data, PredictionRequest"
   ]
  },
  {
   "cell_type": "code",
   "execution_count": 2,
   "metadata": {},
   "outputs": [],
   "source": [
    "# fill in AWS profile\n",
    "os.environ[\"AWS_PROFILE\"] = \"demiga-g\"\n",
    "\n",
    "# Setting tracking uri (unique resource identifier)\n",
    "TRACKING_SERVER_HOST = '127.0.0.1'  # '16.171.136.194'\n",
    "mlflow.set_tracking_uri(f\"http://{TRACKING_SERVER_HOST}:5000\")"
   ]
  },
  {
   "cell_type": "code",
   "execution_count": null,
   "metadata": {},
   "outputs": [],
   "source": [
    "experiment_id = 6\n",
    "run_id = '45a3990ff1e140afbe48334a8422bec7'"
   ]
  },
  {
   "cell_type": "code",
   "execution_count": null,
   "metadata": {},
   "outputs": [],
   "source": [
    "def load_model():\n",
    "    \"\"\"Load a model from an experiment run.\"\"\"\n",
    "    base_location = 'mlflow-artifacts:'  # 's3://midega-mlflow-artifacts'\n",
    "    logged_model = f\"{base_location}/{experiment_id}/{run_id}/artifacts/model\"\n",
    "    return mlflow.pyfunc.load_model(logged_model)\n"
   ]
  },
  {
   "cell_type": "code",
   "execution_count": null,
   "metadata": {},
   "outputs": [],
   "source": [
    "def predict_responses(features):\n",
    "    model = load_model()\n",
    "    y_pred = model.predict(features)\n",
    "    return y_pred"
   ]
  },
  {
   "cell_type": "code",
   "execution_count": null,
   "metadata": {},
   "outputs": [],
   "source": [
    "app = FastAPI('customer-response')\n",
    "\n",
    "@app.get('/')\n",
    "def root_page():\n",
    "    \"\"\"\n",
    "    This function serves as the root endpoint for the FastAPI application.\n",
    "    It returns a welcome message when accessed via a GET request.\n",
    "\n",
    "    Parameters:\n",
    "    None\n",
    "\n",
    "    Returns:\n",
    "    dict: A dictionary containing a welcome message.\n",
    "    \"\"\"\n",
    "    return {\"message\": \"Welcome to the Customer Response Prediction API\"}"
   ]
  },
  {
   "cell_type": "code",
   "execution_count": null,
   "metadata": {},
   "outputs": [],
   "source": []
  },
  {
   "cell_type": "code",
   "execution_count": null,
   "metadata": {},
   "outputs": [],
   "source": []
  },
  {
   "cell_type": "code",
   "execution_count": null,
   "metadata": {},
   "outputs": [],
   "source": [
    "@app.post('/predictions')\n",
    "def predict_endpoint(request: PredictionRequest):\n",
    "    details = request.dict()\n",
    "    # features = pd.DataFrame([details])\n",
    "    cleaned_features = scrub_data(details)\n",
    "    preds = predict_responses(cleaned_features)\n",
    "    result = {'response': preds.tolist()}\n",
    "    return result"
   ]
  }
 ],
 "metadata": {
  "kernelspec": {
   "display_name": "ifood_mlops",
   "language": "python",
   "name": "python3"
  },
  "language_info": {
   "codemirror_mode": {
    "name": "ipython",
    "version": 3
   },
   "file_extension": ".py",
   "mimetype": "text/x-python",
   "name": "python",
   "nbconvert_exporter": "python",
   "pygments_lexer": "ipython3",
   "version": "3.9.16"
  }
 },
 "nbformat": 4,
 "nbformat_minor": 2
}
